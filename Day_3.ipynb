{
 "cells": [
  {
   "cell_type": "markdown",
   "metadata": {},
   "source": [
    "### Exercise 11: Get each digit from a number in the reverse order.\n",
    "\n",
    "For example, If the given integer number is 7536, the output shall be “6 3 5 7“, with a space separating the digits."
   ]
  },
  {
   "cell_type": "code",
   "execution_count": 18,
   "metadata": {},
   "outputs": [
    {
     "name": "stdout",
     "output_type": "stream",
     "text": [
      "Given integer number is  7536\n",
      "6 3 5 7 "
     ]
    }
   ],
   "source": [
    "Number = int(input(\"Enter the number: \"))\n",
    "\n",
    "print(\"Given integer number is \", Number)\n",
    "\n",
    "while Number > 0:\n",
    "    digit = Number % 10 # this will return last num\n",
    "    print(digit, end =\" \")\n",
    "    \n",
    "    Number = Number//10 # this will remove last num\n",
    "    \n"
   ]
  },
  {
   "cell_type": "markdown",
   "metadata": {},
   "source": [
    "### Exercise 12: Print multiplication table from 1 to 10\n",
    "\n",
    "Expected Output:\n",
    "\n",
    "1  2 3 4 5 6 7 8 9 10 \t\n",
    "\n",
    "2  4 6 8 10 12 14 16 18 20 \n",
    "\n",
    "3  6 9 12 15 18 21 24 27 30 \n",
    "\n",
    "4  8 12 16 20 24 28 32 36 40 \t\n",
    "\n",
    "5  10 15 20 25 30 35 40 45 50 \n",
    "\n",
    "6  12 18 24 30 36 42 48 54 60 \t\n",
    "\n",
    "7  14 21 28 35 42 49 56 63 70 \t\n",
    "\n",
    "8  16 24 32 40 48 56 64 72 80 \t\n",
    "\n",
    "9  18 27 36 45 54 63 72 81 90 \t\n",
    "\t\n",
    "10 20 30 40 50 60 70 80 90 100 "
   ]
  },
  {
   "cell_type": "code",
   "execution_count": 23,
   "metadata": {},
   "outputs": [
    {
     "name": "stdout",
     "output_type": "stream",
     "text": [
      "1 2 3 4 5 6 7 8 9 10  \n",
      "2 4 6 8 10 12 14 16 18 20  \n",
      "3 6 9 12 15 18 21 24 27 30  \n",
      "4 8 12 16 20 24 28 32 36 40  \n",
      "5 10 15 20 25 30 35 40 45 50  \n",
      "6 12 18 24 30 36 42 48 54 60  \n",
      "7 14 21 28 35 42 49 56 63 70  \n",
      "8 16 24 32 40 48 56 64 72 80  \n",
      "9 18 27 36 45 54 63 72 81 90  \n",
      "10 20 30 40 50 60 70 80 90 100  \n"
     ]
    }
   ],
   "source": [
    "for i in range(1,11):\n",
    "    for j in range(1,11):\n",
    "        print(i*j,end =\" \")\n",
    "        \n",
    "    print(\" \")"
   ]
  },
  {
   "cell_type": "markdown",
   "metadata": {},
   "source": [
    "### Exercise 13: Print a downward half-pyramid pattern of stars\n",
    "\n",
    "    * * * * *  \n",
    "\n",
    "    * * * *  \n",
    "\n",
    "    * * *  \n",
    "\n",
    "    * *  \n",
    "\n",
    "    *"
   ]
  },
  {
   "cell_type": "code",
   "execution_count": 45,
   "metadata": {},
   "outputs": [
    {
     "name": "stdout",
     "output_type": "stream",
     "text": [
      "* * * * *  \n",
      "* * * *  \n",
      "* * *  \n",
      "* *  \n",
      "*  \n",
      " \n"
     ]
    }
   ],
   "source": [
    "for i in range(6, 0, -1):\n",
    "    # print('*')\n",
    "    for j in range(0, i-1):\n",
    "        print(\"*\",end=\" \")\n",
    "    print(\" \")"
   ]
  },
  {
   "cell_type": "markdown",
   "metadata": {},
   "source": [
    "### Exercise 14: Get an int value of base raises to the power of exponent\n",
    "\n",
    "Write a function called exponent(base, exp) that returns an int value of base raises to the power of exp.\n",
    "\n",
    "Note here exp is a non-negative integer, and the base is an integer.\n",
    "\n",
    "Expected output\n",
    "\n",
    "Case 1:\n",
    "\n",
    "base = 2\n",
    "exponent = 5\n",
    "\n",
    "2 raises to the power of 5: 32 i.e. (2 *2 * 2 *2 *2 = 32)\n",
    "\n",
    "Case 2:\n",
    "\n",
    "base = 5\n",
    "exponent = 4\n",
    "\n",
    "5 raises to the power of 4 is: 625 \n",
    "i.e. (5 *5 * 5 *5 = 625)"
   ]
  },
  {
   "cell_type": "code",
   "execution_count": 56,
   "metadata": {},
   "outputs": [
    {
     "name": "stdout",
     "output_type": "stream",
     "text": [
      "base =  2\n",
      "exponent =  5\n",
      "2 raises to the power of 5: 32\n"
     ]
    }
   ],
   "source": [
    "base = int(input(\"Enter the base value\" ))\n",
    "exponent = int(input(\"Enter the exponent value: \"))\n",
    "\n",
    "print(\"base = \",base)\n",
    "print(\"exponent = \",exponent)\n",
    "\n",
    "if base > 0:\n",
    "    result = base**exponent\n",
    "    print(f\"{base} raises to the power of {exponent}:\", result)"
   ]
  },
  {
   "cell_type": "code",
   "execution_count": 65,
   "metadata": {},
   "outputs": [
    {
     "name": "stdout",
     "output_type": "stream",
     "text": [
      "Case 1:\n",
      "base =  2\n",
      "exponent =  5\n",
      "2 raises to the power of 5: 32\n",
      " \n",
      "Case 2:\n",
      "base =  5\n",
      "exponent =  4\n",
      "5 raises to the power of 4: 625\n"
     ]
    }
   ],
   "source": [
    "def exponent(base,exponent):\n",
    "    \n",
    "    print(\"base = \",base)\n",
    "    print(\"exponent = \",exponent)\n",
    "\n",
    "    if base > 0:\n",
    "        result = base**exponent\n",
    "        print(f\"{base} raises to the power of {exponent}:\", result)\n",
    "\n",
    "print(\"Case 1:\")\n",
    "exponent(2,5)\n",
    "print(\" \")\n",
    "print(\"Case 2:\")\n",
    "exponent(5,4)\n",
    "    "
   ]
  },
  {
   "cell_type": "code",
   "execution_count": 47,
   "metadata": {},
   "outputs": [
    {
     "data": {
      "text/plain": [
       "32"
      ]
     },
     "execution_count": 47,
     "metadata": {},
     "output_type": "execute_result"
    }
   ],
   "source": [
    "2**5"
   ]
  },
  {
   "cell_type": "code",
   "execution_count": 48,
   "metadata": {},
   "outputs": [
    {
     "data": {
      "text/plain": [
       "625"
      ]
     },
     "execution_count": 48,
     "metadata": {},
     "output_type": "execute_result"
    }
   ],
   "source": [
    "5**4"
   ]
  },
  {
   "cell_type": "markdown",
   "metadata": {},
   "source": [
    "### Exercise 15: Calculate income tax\n",
    "\n",
    "Calculate income tax for the given income by adhering to the rules below\n",
    "\n",
    "Taxable Income\tRate (in %)\n",
    "\n",
    "First $10,000\t0\n",
    "\n",
    "Next $10,000\t10\n",
    "\n",
    "The remaining\t20\n",
    "\n",
    "Expected Output:\n",
    "\n",
    "For example, suppose the income is 45000, and the income tax payable is\n",
    "\n",
    "10000*0% + 10000*10%  + 25000*20% = $6000."
   ]
  },
  {
   "cell_type": "code",
   "execution_count": 69,
   "metadata": {},
   "outputs": [
    {
     "name": "stdout",
     "output_type": "stream",
     "text": [
      "Given income  45000\n",
      "Total tax amount  6000.0\n"
     ]
    }
   ],
   "source": [
    "income = 45000\n",
    "tax_pay = 0\n",
    "print(\"Given income \",income)\n",
    "\n",
    "if income <=10000:\n",
    "    tax_pay = 0\n",
    "elif income <= 20000:\n",
    "    x=income - 10000\n",
    "    tax_pay = x * 10/100\n",
    "else:\n",
    "    tax_pay =0\n",
    "    \n",
    "    tax_pay = 10000*10/100\n",
    "    \n",
    "    tax_pay +=(income - 20000) *20/100\n",
    "print(\"Total tax amount \",tax_pay)"
   ]
  }
 ],
 "metadata": {
  "kernelspec": {
   "display_name": "base",
   "language": "python",
   "name": "python3"
  },
  "language_info": {
   "codemirror_mode": {
    "name": "ipython",
    "version": 3
   },
   "file_extension": ".py",
   "mimetype": "text/x-python",
   "name": "python",
   "nbconvert_exporter": "python",
   "pygments_lexer": "ipython3",
   "version": "3.12.4"
  }
 },
 "nbformat": 4,
 "nbformat_minor": 2
}
