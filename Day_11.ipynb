{
 "cells": [
  {
   "cell_type": "markdown",
   "metadata": {},
   "source": [
    "### 51. Given a year, determine whether it is a leap year. If it is a leap year, return the Boolean True, otherwise return False.\n",
    "\n",
    "The function must return a Boolean value (True/False). Output is handled by the provided code stub.\n",
    "\n",
    "Sample Input 0\n",
    "\n",
    "1990\n",
    "\n",
    "Sample Output 0\n",
    "\n",
    "False\n",
    "\n",
    "Explanation 0\n",
    "\n",
    "1990 is not a multiple of 4 hence it's not a leap year."
   ]
  },
  {
   "cell_type": "code",
   "execution_count": 25,
   "metadata": {},
   "outputs": [
    {
     "name": "stdout",
     "output_type": "stream",
     "text": [
      "Div by 4 and the 1600 is Leap Year\n",
      "Its a Leap Year\n"
     ]
    }
   ],
   "source": [
    "def leap_year(year):\n",
    "    if (year % 4 == 0 ):\n",
    "        print(f\"Div by 4 and the {year} is Leap Year\")\n",
    "        print(\"Its a Leap Year\")\n",
    "    elif (year % 400 == 0 ):\n",
    "        print(f\"Div by 400 and the {year} is Leap Year\")\n",
    "        print(\"Its a Leap Year\")\n",
    "\n",
    "    else:\n",
    "        print(\"Not Leap year\")\n",
    "        \n",
    "year = int(input(\"Enter the year:\"))\n",
    "        \n",
    "leap_year(year)      "
   ]
  },
  {
   "cell_type": "code",
   "execution_count": 29,
   "metadata": {},
   "outputs": [
    {
     "name": "stdout",
     "output_type": "stream",
     "text": [
      "False\n"
     ]
    }
   ],
   "source": [
    "def is_leap(year):\n",
    "    leap = False\n",
    "    if (year % 4 == 0):\n",
    "        if (year % 100 == 0):\n",
    "            if (year % 400 == 0):\n",
    "                leap = True\n",
    "        else:\n",
    "            leap = True\n",
    "    return leap\n",
    "\n",
    "year = int(input())\n",
    "print(is_leap(year))"
   ]
  },
  {
   "cell_type": "markdown",
   "metadata": {},
   "source": [
    "### 52. The included code stub will read an integer, , from STDIN.\n",
    "\n",
    "Without using any string methods, try to print the following:\n",
    "\n",
    "\n",
    "Note that \"\" represents the consecutive values in between.\n",
    "\n",
    "Example\n",
    "\n",
    "Print the string .\n",
    "\n",
    "Input Format\n",
    "\n",
    "The first line contains an integer .\n",
    "\n",
    "Constraints\n",
    "\n",
    "\n",
    "Output Format\n",
    "\n",
    "Print the list of integers from  through  as a string, without spaces.\n",
    "\n",
    "Sample Input 0\n",
    "\n",
    "3\n",
    "\n",
    "Sample Output 0\n",
    "\n",
    "123"
   ]
  },
  {
   "cell_type": "code",
   "execution_count": 28,
   "metadata": {},
   "outputs": [
    {
     "name": "stdout",
     "output_type": "stream",
     "text": [
      "123"
     ]
    }
   ],
   "source": [
    "n = int(input())\n",
    "\n",
    "for i in range(1,n+1):\n",
    "    print(i,end='')"
   ]
  },
  {
   "cell_type": "markdown",
   "metadata": {},
   "source": [
    "### 53: Reverse a list in Python\n",
    "\n",
    "Given:\n",
    "\n",
    "list1 = [100, 200, 300, 400, 500]\n",
    "\n",
    "Expected output:\n",
    "\n",
    "[500, 400, 300, 200, 100]"
   ]
  },
  {
   "cell_type": "code",
   "execution_count": 34,
   "metadata": {},
   "outputs": [
    {
     "name": "stdout",
     "output_type": "stream",
     "text": [
      "[500, 400, 300, 200, 100]\n"
     ]
    }
   ],
   "source": [
    "list1 = [100,200,300,400,500]\n",
    "list1.reverse()\n",
    "print(list1)"
   ]
  },
  {
   "cell_type": "markdown",
   "metadata": {},
   "source": [
    "### 54: Concatenate two lists index-wise\n",
    "Write a program to add two lists index-wise. Create a new list that contains the 0th index item from both the list, then the 1st index item, and so on till the last element. any leftover items will get added at the end of the new list.\n",
    "\n",
    "Given:\n",
    "\n",
    "list1 = [\"M\", \"na\", \"i\", \"Ke\"]\n",
    "\n",
    "list2 = [\"y\", \"me\", \"s\", \"lly\"]\n",
    "\n",
    "Expected output:\n",
    "\n",
    "['My', 'name', 'is', 'Kelly']"
   ]
  },
  {
   "cell_type": "code",
   "execution_count": 35,
   "metadata": {},
   "outputs": [
    {
     "name": "stdout",
     "output_type": "stream",
     "text": [
      "['My', 'name', 'is', 'Kelly']\n"
     ]
    }
   ],
   "source": [
    "list1 = [\"M\", \"na\", \"i\", \"Ke\"] \n",
    "list2 = [\"y\", \"me\", \"s\", \"lly\"]\n",
    "list3 = [i + j for i, j in zip(list1, list2)]\n",
    "print(list3)"
   ]
  },
  {
   "cell_type": "markdown",
   "metadata": {},
   "source": [
    "### 55: Turn every item of a list into its square\n",
    "Given a list of numbers. write a program to turn every item of a list into its square.\n",
    "\n",
    "Given:\n",
    "\n",
    "numbers = [1, 2, 3, 4, 5, 6, 7]\n",
    "\n",
    "Expected output:\n",
    "\n",
    "[1, 4, 9, 16, 25, 36, 49]"
   ]
  },
  {
   "cell_type": "code",
   "execution_count": 37,
   "metadata": {},
   "outputs": [
    {
     "data": {
      "text/plain": [
       "[1, 4, 9, 16, 25, 36, 49]"
      ]
     },
     "execution_count": 37,
     "metadata": {},
     "output_type": "execute_result"
    }
   ],
   "source": [
    "numbers = [1,2,3,4,5,6,7]\n",
    "[i**2 for i in numbers]"
   ]
  },
  {
   "cell_type": "code",
   "execution_count": null,
   "metadata": {},
   "outputs": [],
   "source": []
  }
 ],
 "metadata": {
  "kernelspec": {
   "display_name": "base",
   "language": "python",
   "name": "python3"
  },
  "language_info": {
   "codemirror_mode": {
    "name": "ipython",
    "version": 3
   },
   "file_extension": ".py",
   "mimetype": "text/x-python",
   "name": "python",
   "nbconvert_exporter": "python",
   "pygments_lexer": "ipython3",
   "version": "3.12.4"
  }
 },
 "nbformat": 4,
 "nbformat_minor": 2
}
