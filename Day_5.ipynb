{
 "cells": [
  {
   "cell_type": "markdown",
   "metadata": {},
   "source": [
    "### Exercise 21: Accept any three string from one input() call\n",
    "\n",
    "Write a program to take three names as input from a user in the single input() function call.\n",
    "\n",
    "Expected Output\n",
    "\n",
    "Enter three string Emma Jessa Kelly\n",
    "\n",
    "Name1: Emma\n",
    "\n",
    "Name2: Jessa\n",
    "\n",
    "Name3: Kelly"
   ]
  },
  {
   "cell_type": "code",
   "execution_count": 4,
   "metadata": {},
   "outputs": [
    {
     "name": "stdout",
     "output_type": "stream",
     "text": [
      "Name1: Emma\n",
      "Name2: Kelly\n",
      "Name3: Jessa\n"
     ]
    }
   ],
   "source": [
    "names = input(\"Enter three string: \").split()\n",
    "Name1,Name2,Name3 = names\n",
    "print(\"Name1:\",Name1)\n",
    "print(\"Name2:\",Name2)\n",
    "print(\"Name3:\",Name3)\n",
    "\n"
   ]
  },
  {
   "cell_type": "markdown",
   "metadata": {},
   "source": [
    "### Exercise 22: Print first 10 natural numbers using while loop\n",
    "\n",
    "Help: while loop in Python\n",
    "\n",
    "Expected output:\n",
    "\n",
    "1\n",
    "\n",
    "2\n",
    "\n",
    "3\n",
    "\n",
    "4\n",
    "\n",
    "5\n",
    "\n",
    "6\n",
    "\n",
    "7\n",
    "\n",
    "8\n",
    "\n",
    "9\n",
    "\n",
    "10"
   ]
  },
  {
   "cell_type": "code",
   "execution_count": 10,
   "metadata": {},
   "outputs": [
    {
     "name": "stdout",
     "output_type": "stream",
     "text": [
      "1\n",
      "2\n",
      "3\n",
      "4\n",
      "5\n",
      "6\n",
      "7\n",
      "8\n",
      "9\n",
      "10\n"
     ]
    }
   ],
   "source": [
    "i = 1\n",
    "while i <=10: \n",
    "    print(i)\n",
    "    i+=1      "
   ]
  },
  {
   "cell_type": "markdown",
   "metadata": {},
   "source": [
    "### Exercise 23: Print the following pattern\n",
    "\n",
    "Write a Python code to print the following number pattern using a loop.\n",
    "\n",
    "1 \n",
    "\n",
    "1 2 \n",
    "\n",
    "1 2 3 \n",
    "\n",
    "1 2 3 4 \n",
    "\n",
    "1 2 3 4 5"
   ]
  },
  {
   "cell_type": "code",
   "execution_count": 35,
   "metadata": {},
   "outputs": [
    {
     "name": "stdout",
     "output_type": "stream",
     "text": [
      "1 \n",
      "1 2 \n",
      "1 2 3 \n",
      "1 2 3 4 \n",
      "1 2 3 4 5 \n"
     ]
    }
   ],
   "source": [
    "for i in range(1, 6 , 1):\n",
    "    for j in range(1, i + 1):\n",
    "        print(j, end=' ')\n",
    "    print(\"\")\n",
    "        "
   ]
  },
  {
   "cell_type": "markdown",
   "metadata": {},
   "source": [
    "### Exercise 24: Calculate sum of all numbers from 1 to a given number\n",
    "\n",
    "Write a Python program to accept a number from a user and calculate the sum of all numbers from 1 to a given number\n",
    "\n",
    "For example, if the user entered 10, the output should be 55 (1+2+3+4+5+6+7+8+9+10)\n",
    "\n",
    "Expected Output:\n",
    "\n",
    "Enter number 10\n",
    "\n",
    "Sum is:  55"
   ]
  },
  {
   "cell_type": "code",
   "execution_count": 54,
   "metadata": {},
   "outputs": [
    {
     "name": "stdout",
     "output_type": "stream",
     "text": [
      "The sum of 10 numbers is : 5300\n"
     ]
    }
   ],
   "source": [
    "sum = 0\n",
    "\n",
    "for i in range(10):\n",
    "    number = int(input(f\"Number{i+1}: \"))\n",
    "    sum += number\n",
    "print(f\"The sum of 10 numbers is :\",sum)"
   ]
  },
  {
   "cell_type": "markdown",
   "metadata": {},
   "source": [
    "### Exercise 25: Print multiplication table of a given number\n",
    "\n",
    "Given:\n",
    "\n",
    "num = 2\n",
    "\n",
    "Expected output is:\n",
    "\n",
    "2\n",
    "\n",
    "4\n",
    "\n",
    "6\n",
    "\n",
    "8\n",
    "\n",
    "10\n",
    "\n",
    "12\n",
    "\n",
    "14\n",
    "\n",
    "16\n",
    "\n",
    "18\n",
    "\n",
    "20"
   ]
  },
  {
   "cell_type": "code",
   "execution_count": 61,
   "metadata": {},
   "outputs": [
    {
     "name": "stdout",
     "output_type": "stream",
     "text": [
      "2\n",
      "4\n",
      "6\n",
      "8\n",
      "10\n",
      "12\n",
      "14\n",
      "16\n",
      "18\n",
      "20\n"
     ]
    }
   ],
   "source": [
    "number = int(input(\"Enter the number \"))\n",
    "\n",
    "for i in range(1,11):\n",
    "    print(i*number)"
   ]
  },
  {
   "cell_type": "code",
   "execution_count": null,
   "metadata": {},
   "outputs": [],
   "source": []
  }
 ],
 "metadata": {
  "kernelspec": {
   "display_name": "base",
   "language": "python",
   "name": "python3"
  },
  "language_info": {
   "codemirror_mode": {
    "name": "ipython",
    "version": 3
   },
   "file_extension": ".py",
   "mimetype": "text/x-python",
   "name": "python",
   "nbconvert_exporter": "python",
   "pygments_lexer": "ipython3",
   "version": "3.12.4"
  }
 },
 "nbformat": 4,
 "nbformat_minor": 2
}
