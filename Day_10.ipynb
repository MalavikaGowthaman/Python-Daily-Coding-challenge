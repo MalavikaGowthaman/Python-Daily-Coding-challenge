{
 "cells": [
  {
   "cell_type": "markdown",
   "metadata": {},
   "source": [
    "### 45: Create a string made of the first, middle and last character\n",
    "Write a program to create a new string made of an input string’s first, middle, and last character.\n",
    "\n",
    "Given:\n",
    "\n",
    "str1 = \"James\"\n",
    "\n",
    "Expected Output:\n",
    "\n",
    "Jms"
   ]
  },
  {
   "cell_type": "code",
   "execution_count": 2,
   "metadata": {},
   "outputs": [
    {
     "name": "stdout",
     "output_type": "stream",
     "text": [
      "Jms\n"
     ]
    }
   ],
   "source": [
    "str1 = \"James\"\n",
    "print(str1[0::2])"
   ]
  },
  {
   "cell_type": "markdown",
   "metadata": {},
   "source": [
    "### 46: Create a string made of the middle three characters\n",
    "Write a program to create a new string made of the middle three characters of an input string.\n",
    "\n",
    "Given:\n",
    "\n",
    "Case 1\n",
    "\n",
    "str1 = \"JhonDipPeta\"\n",
    "\n",
    "Output\n",
    "\n",
    "Dip\n",
    "\n",
    "Case 2\n",
    "\n",
    "str2 = \"JaSonAy\"\n",
    "\n",
    "Output\n",
    "\n",
    "Son"
   ]
  },
  {
   "cell_type": "code",
   "execution_count": 8,
   "metadata": {},
   "outputs": [
    {
     "data": {
      "text/plain": [
       "'Dip'"
      ]
     },
     "execution_count": 8,
     "metadata": {},
     "output_type": "execute_result"
    }
   ],
   "source": [
    "str = 'JhonDipxxxx'\n",
    "mi = int(len(str)/2)\n",
    "# len(s\\tr)\n",
    "\n",
    "str[mi-1:mi+2]"
   ]
  },
  {
   "cell_type": "code",
   "execution_count": 12,
   "metadata": {},
   "outputs": [
    {
     "name": "stdout",
     "output_type": "stream",
     "text": [
      "Original String:  JhonDipPeta\n",
      "Mid three chars are: Dip\n",
      "Original String:  JaSonAy\n",
      "Mid three chars are: onD\n"
     ]
    }
   ],
   "source": [
    "def mid_chars(str1):\n",
    "    print(\"Original String: \",str1)\n",
    "\n",
    "    \n",
    "    mi = int(len(str1)/2)\n",
    "    \n",
    "    res = str[mi-1:mi+2]\n",
    "    print(\"Mid three chars are:\",res)\n",
    "    \n",
    "mid_chars(\"JhonDipPeta\")\n",
    "mid_chars(\"JaSonAy\")\n"
   ]
  },
  {
   "cell_type": "markdown",
   "metadata": {},
   "source": [
    "### 47: Append new string in the middle of a given string\n",
    "Given two strings, s1 and s2. Write a program to create a new string s3 by appending s2 in the middle of s1.\n",
    "\n",
    "Given:\n",
    "\n",
    "s1 = \"Ault\"\n",
    "\n",
    "s2 = \"Kelly\"\n",
    "\n",
    "Expected Output:\n",
    "\n",
    "AuKellylt"
   ]
  },
  {
   "cell_type": "code",
   "execution_count": 60,
   "metadata": {},
   "outputs": [
    {
     "data": {
      "text/plain": [
       "'AuKellylt'"
      ]
     },
     "execution_count": 60,
     "metadata": {},
     "output_type": "execute_result"
    }
   ],
   "source": [
    "s1 = \"Ault\"\n",
    "\n",
    "s2 = \"Kelly\"\n",
    "\n",
    "mi = int(len(s1)/2)\n",
    "x = s1[:mi:]\n",
    "x\n",
    "x = x+s2\n",
    "x\n",
    "x = x+s1[mi:]\n",
    "x"
   ]
  },
  {
   "cell_type": "code",
   "execution_count": 61,
   "metadata": {},
   "outputs": [
    {
     "data": {
      "text/plain": [
       "'AuKellylt'"
      ]
     },
     "execution_count": 61,
     "metadata": {},
     "output_type": "execute_result"
    }
   ],
   "source": [
    "def string(s1,s2):\n",
    "    mi = int(len(s1)/2) # mi = 2\n",
    "    x = s1[:mi] # Au\n",
    "    x = x+s2 # AuKelly\n",
    "    x = x+s1[mi:] # lt\n",
    "    return x\n",
    "\n",
    "string(\"Ault\",\"Kelly\")    "
   ]
  },
  {
   "cell_type": "markdown",
   "metadata": {},
   "source": [
    "### 48: Create a new string made of the first, middle, and last characters of each input string\n",
    "\n",
    "Given two strings, s1 and s2, write a program to return a new string made of s1 and s2’s first, middle, and last characters.\n",
    "\n",
    "Given:\n",
    "\n",
    "s1 = \"America\"\n",
    "\n",
    "s2 = \"Japan\"\n",
    "\n",
    "Expected Output:\n",
    "\n",
    "AJrpan"
   ]
  },
  {
   "cell_type": "code",
   "execution_count": 62,
   "metadata": {},
   "outputs": [
    {
     "data": {
      "text/plain": [
       "'AJrpan'"
      ]
     },
     "execution_count": 62,
     "metadata": {},
     "output_type": "execute_result"
    }
   ],
   "source": [
    "s1 = \"America\"\n",
    "s2 = \"Japan\"\n",
    "\n",
    "first = s1[0]\n",
    "first\n",
    "second = s2[0]\n",
    "second\n",
    "two = first +second\n",
    "x = int(len(s1)/2)\n",
    "mi = s1[x]\n",
    "three = two+mi\n",
    "three\n",
    "final = s2[2:]\n",
    "result = three + final\n",
    "result\n"
   ]
  },
  {
   "cell_type": "code",
   "execution_count": 63,
   "metadata": {},
   "outputs": [
    {
     "name": "stdout",
     "output_type": "stream",
     "text": [
      "AJrpan\n"
     ]
    }
   ],
   "source": [
    "def new_word(s1,s2):\n",
    "    \n",
    "    first = s1[0]\n",
    "    second = s2[0]\n",
    "    a = first + second\n",
    "    x = int(len(s1)/2)\n",
    "    mi = s1[x]\n",
    "    third = a +mi\n",
    "    final = s2[2:]\n",
    "    result = third + final\n",
    "    \n",
    "    return result\n",
    "\n",
    "print(new_word(\"America\",\"Japan\"))"
   ]
  },
  {
   "cell_type": "markdown",
   "metadata": {},
   "source": [
    "### 49: Arrange string characters such that lowercase letters should come first\n",
    "\n",
    "Given string contains a combination of the lower and upper case letters. Write a program to arrange the characters of a string so that all lowercase letters should come first.\n",
    "\n",
    "Given:\n",
    "\n",
    "str1 = WElComeToPYThom\n",
    "\n",
    "Expected Output:\n",
    "\n",
    "lomeohomWECTPYT"
   ]
  },
  {
   "cell_type": "code",
   "execution_count": 64,
   "metadata": {},
   "outputs": [
    {
     "name": "stdout",
     "output_type": "stream",
     "text": [
      "String given:  WElComeToPYThom\n",
      "The output be  lomeohomWECTPYT\n"
     ]
    }
   ],
   "source": [
    "str1 = \"WElComeToPYThom\"\n",
    "print(\"String given: \",str1)\n",
    "upper = []\n",
    "lower = []\n",
    "for i in str1:\n",
    "    if i.islower():\n",
    "        lower.append(i)\n",
    "    else:\n",
    "        upper.append(i)\n",
    "        \n",
    "str_con = ''.join(lower + upper)\n",
    "print(\"The output be \",str_con)\n",
    "    "
   ]
  },
  {
   "cell_type": "markdown",
   "metadata": {},
   "source": [
    "### 50: Count all letters, digits, and special symbols from a given string\n",
    "\n",
    "Given:\n",
    "\n",
    "str1 = \"P@#yt26ho^&i5n\"\n",
    "\n",
    "Expected Outcome:\n",
    "\n",
    "Total counts of chars, digits, and symbols \n",
    "\n",
    "Chars = 8 \n",
    "\n",
    "Digits = 3 \n",
    "\n",
    "Symbol = 4"
   ]
  },
  {
   "cell_type": "code",
   "execution_count": 65,
   "metadata": {},
   "outputs": [
    {
     "name": "stdout",
     "output_type": "stream",
     "text": [
      "Total counts of chars, digits and symbols in P@#yt26ho^&i5n is: \n",
      "Chars =  7\n",
      "Digits = 3\n",
      "Symbol = 4\n"
     ]
    }
   ],
   "source": [
    "str1 = \"P@#yt26ho^&i5n\"\n",
    "\n",
    "char_count = 0\n",
    "digit_count = 0\n",
    "symbol_count = 0\n",
    "\n",
    "for i in str1:\n",
    "    if i.isalpha():\n",
    "        char_count += 1\n",
    "    elif i.isdigit():\n",
    "        digit_count += 1\n",
    "    else:\n",
    "        symbol_count +=1\n",
    "\n",
    "print(\"Total counts of chars, digits and symbols in\",str1,\"is: \")       \n",
    "print(\"Chars = \",char_count)\n",
    "print(\"Digits =\",digit_count)\n",
    "print(\"Symbol =\",symbol_count)\n"
   ]
  }
 ],
 "metadata": {
  "kernelspec": {
   "display_name": "base",
   "language": "python",
   "name": "python3"
  },
  "language_info": {
   "codemirror_mode": {
    "name": "ipython",
    "version": 3
   },
   "file_extension": ".py",
   "mimetype": "text/x-python",
   "name": "python",
   "nbconvert_exporter": "python",
   "pygments_lexer": "ipython3",
   "version": "3.12.4"
  }
 },
 "nbformat": 4,
 "nbformat_minor": 2
}
