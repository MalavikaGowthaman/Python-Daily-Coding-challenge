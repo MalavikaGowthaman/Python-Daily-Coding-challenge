{
 "cells": [
  {
   "cell_type": "markdown",
   "metadata": {},
   "source": [
    "### 31. Display a message “Done” after the successful execution of the for loop\n",
    "For example, the following loop will execute without any error."
   ]
  },
  {
   "cell_type": "code",
   "execution_count": 1,
   "metadata": {},
   "outputs": [
    {
     "name": "stdout",
     "output_type": "stream",
     "text": [
      "0\n",
      "1\n",
      "2\n",
      "3\n",
      "4\n",
      "Done\n"
     ]
    }
   ],
   "source": [
    "for i in range(5):\n",
    "    print(i)\n",
    "    \n",
    "print('Done')"
   ]
  },
  {
   "cell_type": "markdown",
   "metadata": {},
   "source": [
    "### 32. Print all prime numbers within a range\n",
    "Note: A Prime Number is a number that cannot be made by multiplying other whole numbers. A prime number is a natural number greater than 1 that is not a product of two smaller natural numbers.\n",
    "\n",
    "Examples:\n",
    "\n",
    "6 is not a prime number because it can be made by 2×3 = 6\n",
    "\n",
    "37 is a prime number because no other whole numbers multiply to make it."
   ]
  },
  {
   "cell_type": "code",
   "execution_count": 1,
   "metadata": {},
   "outputs": [
    {
     "name": "stdout",
     "output_type": "stream",
     "text": [
      "Prime numbers between 25 and 50 are:\n",
      "29\n",
      "31\n",
      "37\n",
      "41\n",
      "43\n",
      "47\n"
     ]
    }
   ],
   "source": [
    "start = 25\n",
    "end = 50\n",
    "\n",
    "print(\"Prime numbers between\", start, \"and\", end, \"are:\")\n",
    "\n",
    "for num in range(start,end+1):\n",
    "    if num > 1:\n",
    "        for i in range(2,num):\n",
    "            if (num % i) ==0:\n",
    "                break\n",
    "        \n",
    "        else:\n",
    "            print(num)"
   ]
  },
  {
   "cell_type": "markdown",
   "metadata": {},
   "source": [
    "### 33. Display Fibonacci series up to 10 terms\n",
    "Have you ever wondered about the Fibonacci Sequence? It’s a series of numbers in which the next number is found by adding up the two numbers before it. The first two numbers are 0 and 1.\n",
    "\n",
    "For example, 0, 1, 1, 2, 3, 5, 8, 13, 21. \n",
    "\n",
    "The next number in this series is 13 + 21 = 34.\n",
    "\n",
    "Expected output:\n",
    "\n",
    "Fibonacci sequence:\n",
    "0  1  1  2  3  5  8  13  21  34"
   ]
  },
  {
   "cell_type": "code",
   "execution_count": 2,
   "metadata": {},
   "outputs": [
    {
     "name": "stdout",
     "output_type": "stream",
     "text": [
      "Fibonacci sequence: \n",
      "0 1 1 2 3 5 8 13 21 34 "
     ]
    }
   ],
   "source": [
    "num1, num2 = 0,1\n",
    "print(\"Fibonacci sequence: \")\n",
    "\n",
    "for i in range(10):\n",
    "    print(num1, end =\" \")\n",
    "    result  = num1 +num2\n",
    "    \n",
    "    num1 =  num2\n",
    "    num2 = result"
   ]
  },
  {
   "cell_type": "markdown",
   "metadata": {},
   "source": [
    "### 34. Find the factorial of a given number\n",
    "Write a Python program to use for loop to find the factorial of a given number.\n",
    "\n",
    "The factorial (symbol: !) means multiplying all numbers from the chosen number down to 1.\n",
    "\n",
    "For example, a factorial of 5! is 5 × 4 × 3 × 2 × 1 = 120\n",
    "\n",
    "Expected output:\n",
    "\n",
    "\n",
    "120"
   ]
  },
  {
   "cell_type": "code",
   "execution_count": 6,
   "metadata": {},
   "outputs": [
    {
     "name": "stdout",
     "output_type": "stream",
     "text": [
      "120\n"
     ]
    }
   ],
   "source": [
    "factorial = 1\n",
    "n = 5\n",
    "for i in range(1,n+1):\n",
    "    factorial = factorial*i\n",
    "print(factorial)"
   ]
  },
  {
   "cell_type": "markdown",
   "metadata": {},
   "source": [
    "### 35. Print elements from a given list present at odd index positions\n",
    "Given:\n",
    "\n",
    "my_list = [10, 20, 30, 40, 50, 60, 70, 80, 90, 100]\n",
    "\n",
    "Note: The list index always starts at 0\n",
    "\n",
    "Expected output:\n",
    "\n",
    "20 40 60 80 100"
   ]
  },
  {
   "cell_type": "code",
   "execution_count": 7,
   "metadata": {},
   "outputs": [
    {
     "name": "stdout",
     "output_type": "stream",
     "text": [
      "20\n",
      "40\n",
      "60\n",
      "80\n",
      "100\n"
     ]
    }
   ],
   "source": [
    "my_list = [10, 20, 30, 40, 50, 60, 70, 80, 90, 100]\n",
    "\n",
    "for i in my_list[1::2]: # 1 st value , and 2 indicats the 2nd position after the value\n",
    "    print(i)"
   ]
  }
 ],
 "metadata": {
  "kernelspec": {
   "display_name": "base",
   "language": "python",
   "name": "python3"
  },
  "language_info": {
   "codemirror_mode": {
    "name": "ipython",
    "version": 3
   },
   "file_extension": ".py",
   "mimetype": "text/x-python",
   "name": "python",
   "nbconvert_exporter": "python",
   "pygments_lexer": "ipython3",
   "version": "3.12.4"
  }
 },
 "nbformat": 4,
 "nbformat_minor": 2
}
