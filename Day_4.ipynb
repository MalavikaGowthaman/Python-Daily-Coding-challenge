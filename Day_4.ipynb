{
 "cells": [
  {
   "cell_type": "markdown",
   "metadata": {},
   "source": [
    "### Exercise 16: Accept numbers from a user\n",
    "\n",
    "Write a program to accept two numbers from the user and calculate multiplication"
   ]
  },
  {
   "cell_type": "code",
   "execution_count": 1,
   "metadata": {},
   "outputs": [
    {
     "name": "stdout",
     "output_type": "stream",
     "text": [
      "Multiplication of 20 and 21 =  420\n"
     ]
    }
   ],
   "source": [
    "number1 = int(input(\"Enter the number: \"))\n",
    "number2 = int(input(\"Enter the number: \"))\n",
    "\n",
    "mul = number1 * number2\n",
    "print(f\"Multiplication of {number1} and {number2} = \", mul)"
   ]
  },
  {
   "cell_type": "markdown",
   "metadata": {},
   "source": [
    "### Exercise 17: Display three string “Name”, “Is”, “James” as “Name--Is--James”\n",
    "\n",
    "Use the print() function to format the given words in the mentioned format. Display the -- separator between each string.\n",
    "\n",
    "Expected Output:\n",
    "\n",
    "For example: print('Name', 'Is', 'James') will display Name--Is--James"
   ]
  },
  {
   "cell_type": "code",
   "execution_count": 3,
   "metadata": {},
   "outputs": [
    {
     "name": "stdout",
     "output_type": "stream",
     "text": [
      "Name--Is--James\n"
     ]
    }
   ],
   "source": [
    "print('Name', 'Is', 'James',sep = '--')"
   ]
  },
  {
   "cell_type": "markdown",
   "metadata": {},
   "source": [
    "### Exercise 18: Convert Decimal number to octal using print() output formatting\n",
    "\n",
    "Given:\n",
    "\n",
    "num = 8\n",
    "\n",
    "Expected Output:\n",
    "\n",
    "The octal number of decimal number 8 is 10"
   ]
  },
  {
   "cell_type": "code",
   "execution_count": 13,
   "metadata": {},
   "outputs": [
    {
     "name": "stdout",
     "output_type": "stream",
     "text": [
      "The octal number of decimal number 8 is 10\n"
     ]
    }
   ],
   "source": [
    "num = 8\n",
    "octal = ('%o' %num)\n",
    "print(f\"The octal number of decimal number {num} is\", octal)"
   ]
  },
  {
   "cell_type": "markdown",
   "metadata": {},
   "source": [
    "### Exercise 19: Display float number with 2 decimal places using print()\n",
    "\n",
    "Given:\n",
    "\n",
    "num = 458.541315\n",
    "\n",
    "Expected Output:\n",
    "\n",
    "458.54"
   ]
  },
  {
   "cell_type": "code",
   "execution_count": 17,
   "metadata": {},
   "outputs": [
    {
     "name": "stdout",
     "output_type": "stream",
     "text": [
      "458.54\n"
     ]
    }
   ],
   "source": [
    "num = 458.541315\n",
    "\n",
    "print('%.2f' %num)"
   ]
  },
  {
   "cell_type": "markdown",
   "metadata": {},
   "source": [
    "### Exercise 20: Accept a list of 5 float numbers as an input from the user\n",
    "\n",
    "\n",
    "Expected Output:\n",
    "\n",
    "[78.6, 78.6, 85.3, 1.2, 3.5]"
   ]
  },
  {
   "cell_type": "code",
   "execution_count": 27,
   "metadata": {},
   "outputs": [
    {
     "name": "stdout",
     "output_type": "stream",
     "text": [
      "[78.6, 78.6, 85.3, 1.2, 3.5]\n"
     ]
    }
   ],
   "source": [
    "numbers = []\n",
    "\n",
    "for i in range(1,6):\n",
    "    list_num = float(input(\"Enter the number :\"))\n",
    "    numbers.append(list_num)\n",
    "    \n",
    "print(numbers)\n"
   ]
  }
 ],
 "metadata": {
  "kernelspec": {
   "display_name": "base",
   "language": "python",
   "name": "python3"
  },
  "language_info": {
   "codemirror_mode": {
    "name": "ipython",
    "version": 3
   },
   "file_extension": ".py",
   "mimetype": "text/x-python",
   "name": "python",
   "nbconvert_exporter": "python",
   "pygments_lexer": "ipython3",
   "version": "3.12.4"
  }
 },
 "nbformat": 4,
 "nbformat_minor": 2
}
