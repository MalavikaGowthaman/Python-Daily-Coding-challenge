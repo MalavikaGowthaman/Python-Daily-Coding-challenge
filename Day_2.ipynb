{
 "cells": [
  {
   "cell_type": "markdown",
   "metadata": {},
   "source": [
    "### Exercise 1: Display numbers divisible by 5\n",
    "\n",
    "Write a Python code to display numbers from a list divisible by 5\n",
    "\n",
    "Expected Output:\n",
    "\n",
    "Given list is  [10, 20, 33, 46, 55]\n",
    "\n",
    "Divisible by 5\n",
    "\n",
    "10\n",
    "\n",
    "20\n",
    "\n",
    "55"
   ]
  },
  {
   "cell_type": "code",
   "execution_count": 4,
   "metadata": {},
   "outputs": [
    {
     "name": "stdout",
     "output_type": "stream",
     "text": [
      "Given list is [10, 20, 33, 46, 55]\n",
      "Divisible by 5\n",
      "10\n",
      "20\n",
      "55\n"
     ]
    }
   ],
   "source": [
    "# using Loops\n",
    "\n",
    "list = [10,20,33,46,55]\n",
    "\n",
    "print('Given list is', list)\n",
    "print(\"Divisible by 5\")\n",
    "\n",
    "for i in list:\n",
    "    if i%5==0:\n",
    "        print(i)"
   ]
  },
  {
   "cell_type": "markdown",
   "metadata": {},
   "source": [
    "### Exercise 2: Find the number of occurrences of a substring in a string\n",
    "\n",
    "Write a Python code to find how often the substring “Emma” appears in the given string.\n",
    "\n",
    "Given:\n",
    "\n",
    "str_x = \"Emma is good developer. Emma is a writer\"\n",
    "\n",
    "Expected Output:\n",
    "\n",
    "Emma appeared 2 times"
   ]
  },
  {
   "cell_type": "code",
   "execution_count": 9,
   "metadata": {},
   "outputs": [
    {
     "name": "stdout",
     "output_type": "stream",
     "text": [
      "Emma appeared 2 times\n"
     ]
    }
   ],
   "source": [
    "str_x = \"Emma is good developer. Emma is a writer\"\n",
    "appear = str_x.count('Emma')\n",
    "# appear\n",
    "print(\"Emma appeared\", appear, \"times\")"
   ]
  },
  {
   "cell_type": "markdown",
   "metadata": {},
   "source": [
    "### Exercise 3: Print the following pattern\n",
    "\n",
    "1 \n",
    "\n",
    "2 2 \n",
    "\n",
    "3 3 3 \n",
    "\n",
    "4 4 4 4 \n",
    "\n",
    "5 5 5 5 5"
   ]
  },
  {
   "cell_type": "code",
   "execution_count": 21,
   "metadata": {},
   "outputs": [
    {
     "name": "stdout",
     "output_type": "stream",
     "text": [
      "1 \n",
      "22 \n",
      "333 \n",
      "4444 \n",
      "55555 \n"
     ]
    }
   ],
   "source": [
    "for i in range(1,6):\n",
    "    for j in range(i):\n",
    "        print(i, end='')\n",
    "    print(' ')\n",
    "    "
   ]
  },
  {
   "cell_type": "markdown",
   "metadata": {},
   "source": [
    "### Exercise 4: Merge two lists using the following condition\n",
    "\n",
    "Given two lists of numbers, write a Python code to create a new list such that the latest list should contain odd numbers from the first list and even numbers from the second list.\n",
    "\n",
    "\n",
    "Given:\n",
    "\n",
    "list1 = [10, 20, 25, 30, 35]\n",
    "\n",
    "list2 = [40, 45, 60, 75, 90]\n",
    "\n",
    "Expected Output:\n",
    "\n",
    "result list: [25, 35, 40, 60, 90]"
   ]
  },
  {
   "cell_type": "code",
   "execution_count": 27,
   "metadata": {},
   "outputs": [
    {
     "name": "stdout",
     "output_type": "stream",
     "text": [
      "result_list: [25, 35, 40, 60, 90]\n"
     ]
    }
   ],
   "source": [
    "list1 = [10, 20, 25, 30, 35]\n",
    "list2 = [40, 45, 60, 75, 90]\n",
    "\n",
    "result_list = []\n",
    "\n",
    "for i in list1:\n",
    "    if i%2==1:\n",
    "        # print(i)\n",
    "        result_list.append(i)\n",
    "for a in list2:\n",
    "    if a%2 ==0:\n",
    "         result_list.append(a)\n",
    "\n",
    "print(\"result_list:\",result_list)           \n",
    "        \n",
    "        "
   ]
  },
  {
   "cell_type": "code",
   "execution_count": 35,
   "metadata": {},
   "outputs": [
    {
     "name": "stdout",
     "output_type": "stream",
     "text": [
      "result_list: [25, 35, 40, 60, 90]\n"
     ]
    }
   ],
   "source": [
    "def merge_list(list1,list2):\n",
    "    result_list = []\n",
    "\n",
    "    for i in list1:\n",
    "        if i%2==1:\n",
    "        # print(i)\n",
    "            result_list.append(i)\n",
    "    for a in list2:\n",
    "        if a%2 ==0:\n",
    "            result_list.append(a)\n",
    "            \n",
    "    return result_list\n",
    "         \n",
    "print('result_list:',merge_list(list1,list2))\n",
    "    "
   ]
  },
  {
   "cell_type": "markdown",
   "metadata": {},
   "source": [
    "### Exercise 10: Check Palindrome Number\n",
    "\n",
    "Write a Python code to check if the given number is palindrome. A palindrome number is a number that is the same after reverse. For example, 545 is the palindrome number.\n",
    "\n",
    "Expected Output:\n",
    "\n",
    "original number 121\n",
    "\n",
    "Yes. given number is palindrome number\n",
    "\n",
    "original number 125\n",
    "\n",
    "No. given number is not palindrome number"
   ]
  },
  {
   "cell_type": "code",
   "execution_count": 51,
   "metadata": {},
   "outputs": [
    {
     "name": "stdout",
     "output_type": "stream",
     "text": [
      "Yes.Given number is palindrome number\n"
     ]
    }
   ],
   "source": [
    "def palindrome(number):\n",
    "    return str(number) == str(number)[::-1]\n",
    "\n",
    "number = int(input('Original_number'))\n",
    "if palindrome(number):\n",
    "    print(\"Yes.Given number is palindrome number\")\n",
    "else:\n",
    "    print(\"No. Given number is not palindrome number\")"
   ]
  },
  {
   "cell_type": "code",
   "execution_count": null,
   "metadata": {},
   "outputs": [],
   "source": []
  }
 ],
 "metadata": {
  "kernelspec": {
   "display_name": "base",
   "language": "python",
   "name": "python3"
  },
  "language_info": {
   "codemirror_mode": {
    "name": "ipython",
    "version": 3
   },
   "file_extension": ".py",
   "mimetype": "text/x-python",
   "name": "python",
   "nbconvert_exporter": "python",
   "pygments_lexer": "ipython3",
   "version": "3.12.4"
  }
 },
 "nbformat": 4,
 "nbformat_minor": 2
}
