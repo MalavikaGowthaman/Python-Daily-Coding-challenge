{
 "cells": [
  {
   "cell_type": "markdown",
   "metadata": {},
   "source": [
    "### 36. Calculate the cube of all numbers from 1 to a given number\n",
    "Write a Python program to print the cube of all numbers from 1 to a given number\n",
    "\n",
    "Given:\n",
    "\n",
    "input_number = 6\n",
    "\n",
    "Expected output:\n",
    "\n",
    "Current Number is : 1  and the cube is 1\n",
    "\n",
    "Current Number is : 2  and the cube is 8\n",
    "\n",
    "Current Number is : 3  and the cube is 27\n",
    "\n",
    "Current Number is : 4  and the cube is 64\n",
    "\n",
    "Current Number is : 5  and the cube is 125\n",
    "\n",
    "Current Number is : 6  and the cube is 216"
   ]
  },
  {
   "cell_type": "code",
   "execution_count": 1,
   "metadata": {},
   "outputs": [
    {
     "name": "stdout",
     "output_type": "stream",
     "text": [
      "Current Number is: 1 and the cube is 1\n",
      "Current Number is: 2 and the cube is 8\n",
      "Current Number is: 3 and the cube is 27\n",
      "Current Number is: 4 and the cube is 64\n",
      "Current Number is: 5 and the cube is 125\n",
      "Current Number is: 6 and the cube is 216\n"
     ]
    }
   ],
   "source": [
    "input_number = int(input(\"enter number\"))\n",
    "\n",
    "for i in range(1,input_number+1):\n",
    "    print(f\"Current Number is: {i} and the cube is {i*i*i}\")"
   ]
  },
  {
   "cell_type": "code",
   "execution_count": null,
   "metadata": {},
   "outputs": [],
   "source": []
  }
 ],
 "metadata": {
  "kernelspec": {
   "display_name": "base",
   "language": "python",
   "name": "python3"
  },
  "language_info": {
   "codemirror_mode": {
    "name": "ipython",
    "version": 3
   },
   "file_extension": ".py",
   "mimetype": "text/x-python",
   "name": "python",
   "nbconvert_exporter": "python",
   "pygments_lexer": "ipython3",
   "version": "3.12.4"
  }
 },
 "nbformat": 4,
 "nbformat_minor": 2
}
